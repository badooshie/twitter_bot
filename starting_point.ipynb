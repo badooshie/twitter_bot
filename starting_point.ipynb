{
 "cells": [
  {
   "attachments": {},
   "cell_type": "markdown",
   "metadata": {},
   "source": [
    "Bots have been a popular topic in Twitter, so I thought I'd give it a try..  I am also going to build this with some other things that I'd like to get better at.  Not that you (who ever you are) cares, but I've set the music to 90's alternative. This is likely to change though.  Anyways here is what I will be using along the path to build my Twitter bot.\n",
    "\n",
    "First off, this is gathered from the amazing list here:\n",
    " - https://github.com/practical-tutorials/project-based-learning#python\n",
    "Then within that list is this link from freeCodeCamp:\n",
    " - https://www.freecodecamp.org/news/creating-a-twitter-bot-in-python-with-tweepy-ac524157a607\n",
    "\n",
    " So this is a following along with some slight modifcations.\n",
    "\n",
    "Here is the plan:\n",
    " - Documentation in MarkDown\n",
    " - Created in a Jupyter Notebook\n",
    " - Coded in Python\n",
    " - Using Github and Git\n",
    " - IDE Visual Studio Code\n",
    "\n",
    "I'm not exactly sure what kind of I'm going to create, but I'm sure I'll figure it out along the way.  Anyways here we go."
   ]
  },
  {
   "cell_type": "code",
   "execution_count": null,
   "metadata": {},
   "outputs": [],
   "source": []
  }
 ],
 "metadata": {
  "kernelspec": {
   "display_name": "Python 3",
   "language": "python",
   "name": "python3"
  },
  "language_info": {
   "name": "python",
   "version": "3.9.6 (default, Sep 19 2022, 18:46:30) \n[Clang 14.0.0 (clang-1400.0.29.201)]"
  },
  "orig_nbformat": 4,
  "vscode": {
   "interpreter": {
    "hash": "31f2aee4e71d21fbe5cf8b01ff0e069b9275f58929596ceb00d14d90e3e16cd6"
   }
  }
 },
 "nbformat": 4,
 "nbformat_minor": 2
}
