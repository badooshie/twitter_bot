{
 "cells": [
  {
   "attachments": {},
   "cell_type": "markdown",
   "metadata": {},
   "source": [
    "Bots have been a popular topic in Twitter, so I thought I'd give it a try..  I am also going to build this with some other things that I'd like to get better at.  Not that you (who ever you are) cares, but I've set the music to 90's alternative. This is likely to change though.  Anyways here is what I will be using along the path to build my Twitter bot.\n",
    "\n",
    "First off, this is gathered from the amazing list here:\n",
    " - https://github.com/practical-tutorials/project-based-learning#python\n",
    "Then within that list is this link from freeCodeCamp:\n",
    " - https://www.freecodecamp.org/news/creating-a-twitter-bot-in-python-with-tweepy-ac524157a607\n",
    "\n",
    " So this is a following along with some slight modifcations.\n",
    "\n",
    "Here is the plan:\n",
    " - Documentation in MarkDown\n",
    " - Created in a Jupyter Notebook\n",
    " - Coded in Python\n",
    " - Using Github and Gits\n",
    " - IDE Visual Studio Code\n",
    "\n",
    "I'm not exactly sure what kind of I'm going to create, but I'm sure I'll figure it out along the way.  Anyways here we go."
   ]
  },
  {
   "attachments": {},
   "cell_type": "markdown",
   "metadata": {},
   "source": [
    "First things first, the imports.  tweepy.  After a quick google search it looks like this package is a python library specifically for accessing the twitter API.  Since this is an install of a package, I'm going to create a folder where i an create a virtual environment to install all the necessary packages without messing up other stuff on my computer.  These commands are to be entered in terminal.  I'll figure out later how to set this up in Visual Studio so it defaults to this virttual environment for this project.\n",
    "\n",
    "This is pretty easy (more info from https://docs.python.org/3/library/venv.html)"
   ]
  },
  {
   "cell_type": "code",
   "execution_count": null,
   "metadata": {},
   "outputs": [],
   "source": [
    "# create virutal environment\n",
    "python3 -m venv ~/Code/twitter_bot/twitter_env\n",
    "\n",
    "# start virtual environment\n",
    "source ~/Code/twitter_bot/twitter_env/bin/activate\n",
    "\n",
    "# install tweepy once in the virtual env\n",
    "pip install tweepy\n",
    "\n",
    "# check to make sure its there\n",
    "pip list"
   ]
  },
  {
   "attachments": {},
   "cell_type": "markdown",
   "metadata": {},
   "source": [
    "I didn't read this before i got started but it looks like this will have a UI!  We are going to use Tkinter to build our UI.  It looks like the website i'm folling as what should be two lines of code on one.  Anyways importing tweepy and Tikinter."
   ]
  },
  {
   "cell_type": "code",
   "execution_count": 1,
   "metadata": {},
   "outputs": [
    {
     "ename": "ModuleNotFoundError",
     "evalue": "No module named 'tweepy'",
     "output_type": "error",
     "traceback": [
      "\u001b[0;31m---------------------------------------------------------------------------\u001b[0m",
      "\u001b[0;31mModuleNotFoundError\u001b[0m                       Traceback (most recent call last)",
      "Cell \u001b[0;32mIn[1], line 2\u001b[0m\n\u001b[1;32m      1\u001b[0m \u001b[39m# importing twitter API and UI\u001b[39;00m\n\u001b[0;32m----> 2\u001b[0m \u001b[39mimport\u001b[39;00m \u001b[39mtweepy\u001b[39;00m\n\u001b[1;32m      3\u001b[0m \u001b[39mimport\u001b[39;00m \u001b[39mTkinter\u001b[39;00m\n",
      "\u001b[0;31mModuleNotFoundError\u001b[0m: No module named 'tweepy'"
     ]
    }
   ],
   "source": [
    "# importing twitter API and UI\n",
    "import tweepy\n",
    "import Tkinter"
   ]
  }
 ],
 "metadata": {
  "kernelspec": {
   "display_name": "Python 3",
   "language": "python",
   "name": "python3"
  },
  "language_info": {
   "codemirror_mode": {
    "name": "ipython",
    "version": 3
   },
   "file_extension": ".py",
   "mimetype": "text/x-python",
   "name": "python",
   "nbconvert_exporter": "python",
   "pygments_lexer": "ipython3",
   "version": "3.9.6"
  },
  "orig_nbformat": 4,
  "vscode": {
   "interpreter": {
    "hash": "31f2aee4e71d21fbe5cf8b01ff0e069b9275f58929596ceb00d14d90e3e16cd6"
   }
  }
 },
 "nbformat": 4,
 "nbformat_minor": 2
}
